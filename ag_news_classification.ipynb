{
  "cells": [
    {
      "cell_type": "markdown",
      "metadata": {
        "id": "view-in-github",
        "colab_type": "text"
      },
      "source": [
        "<a href=\"https://colab.research.google.com/github/efo-anopa/nlp/blob/main/ag_news_classification.ipynb\" target=\"_parent\"><img src=\"https://colab.research.google.com/assets/colab-badge.svg\" alt=\"Open In Colab\"/></a>"
      ]
    },
    {
      "cell_type": "code",
      "execution_count": 37,
      "id": "9e0b2773-45de-49ff-8f9b-1ed558abdef8",
      "metadata": {
        "id": "9e0b2773-45de-49ff-8f9b-1ed558abdef8"
      },
      "outputs": [],
      "source": [
        "# Import libraries ------- [keras, numpy, tensorflow, tensorflow_datasets, matplotlib]\n",
        "import keras\n",
        "import numpy as np\n",
        "import tensorflow as tf\n",
        "import tensorflow_datasets as tfds\n",
        "import matplotlib.pyplot as plt"
      ]
    },
    {
      "cell_type": "code",
      "execution_count": 38,
      "id": "2684350e-5442-4a1b-bb1f-292c4c52a8e5",
      "metadata": {
        "id": "2684350e-5442-4a1b-bb1f-292c4c52a8e5"
      },
      "outputs": [],
      "source": [
        "# Import Dataset\n",
        "dataset = tfds.load('ag_news_subset')"
      ]
    },
    {
      "cell_type": "code",
      "execution_count": 39,
      "id": "9ac95ebe-da6b-40dd-bfbd-683f9fe62ccd",
      "metadata": {
        "colab": {
          "base_uri": "https://localhost:8080/"
        },
        "id": "9ac95ebe-da6b-40dd-bfbd-683f9fe62ccd",
        "outputId": "5912c746-1604-44c7-ab42-acdb151e538b"
      },
      "outputs": [
        {
          "output_type": "execute_result",
          "data": {
            "text/plain": [
              "{'train': <_PrefetchDataset element_spec={'description': TensorSpec(shape=(), dtype=tf.string, name=None), 'label': TensorSpec(shape=(), dtype=tf.int64, name=None), 'title': TensorSpec(shape=(), dtype=tf.string, name=None)}>,\n",
              " 'test': <_PrefetchDataset element_spec={'description': TensorSpec(shape=(), dtype=tf.string, name=None), 'label': TensorSpec(shape=(), dtype=tf.int64, name=None), 'title': TensorSpec(shape=(), dtype=tf.string, name=None)}>}"
            ]
          },
          "metadata": {},
          "execution_count": 39
        }
      ],
      "source": [
        "# Preview Data\n",
        "dataset"
      ]
    },
    {
      "cell_type": "code",
      "execution_count": 40,
      "id": "2b980d68-9723-4c18-aab0-f98bbf0176e0",
      "metadata": {
        "colab": {
          "base_uri": "https://localhost:8080/"
        },
        "id": "2b980d68-9723-4c18-aab0-f98bbf0176e0",
        "outputId": "97b35914-799c-4844-fcbc-bea354607861"
      },
      "outputs": [
        {
          "output_type": "execute_result",
          "data": {
            "text/plain": [
              "dict"
            ]
          },
          "metadata": {},
          "execution_count": 40
        }
      ],
      "source": [
        "type(dataset)"
      ]
    },
    {
      "cell_type": "code",
      "execution_count": 41,
      "id": "d9bcbf4e-a714-4ad8-b76f-20bbaf516130",
      "metadata": {
        "id": "d9bcbf4e-a714-4ad8-b76f-20bbaf516130"
      },
      "outputs": [],
      "source": [
        "# Separate Training part and Testing part of Dataset"
      ]
    },
    {
      "cell_type": "code",
      "execution_count": 42,
      "id": "70347c12-7127-4984-8e40-7118a8d6576d",
      "metadata": {
        "colab": {
          "base_uri": "https://localhost:8080/"
        },
        "id": "70347c12-7127-4984-8e40-7118a8d6576d",
        "outputId": "1781eadb-e8be-4687-c848-54431cc7f4ac"
      },
      "outputs": [
        {
          "output_type": "stream",
          "name": "stdout",
          "text": [
            "3:Sci/Tech --> b'AMD Debuts Dual-Core Opteron Processor' --> b'AMD #39;s new dual-core Opteron chip is designed mainly for corporate computing applications, including databases, Web services, and financial transactions.'\n",
            "------------------------------------------------------------------------------------------\n",
            "1:Sport --> b\"Wood's Suspension Upheld (Reuters)\" --> b'Reuters - Major League Baseball\\\\Monday announced a decision on the appeal filed by Chicago Cubs\\\\pitcher Kerry Wood regarding a suspension stemming from an\\\\incident earlier this season.'\n",
            "------------------------------------------------------------------------------------------\n",
            "2:Business --> b'Bush reform may have blue states seeing red' --> b'President Bush #39;s  quot;revenue-neutral quot; tax reform needs losers to balance its winners, and people claiming the federal deduction for state and local taxes may be in administration planners #39; sights, news reports say.'\n",
            "------------------------------------------------------------------------------------------\n",
            "3:Sci/Tech --> b\"'Halt science decline in schools'\" --> b'Britain will run out of leading scientists unless science education is improved, says Professor Colin Pillinger.'\n",
            "------------------------------------------------------------------------------------------\n",
            "1:Sport --> b'Gerrard leaves practice' --> b'London, England (Sports Network) - England midfielder Steven Gerrard injured his groin late in Thursday #39;s training session, but is hopeful he will be ready for Saturday #39;s World Cup qualifier against Austria.'\n",
            "------------------------------------------------------------------------------------------\n",
            "0:World --> b'Sony Banking on MGM Deal to Boost Profits' --> b'TOKYO - Sony Corp. is banking on the \\\\$3 billion deal to acquire Hollywood studio Metro-Goldwyn-Mayer Inc...'\n",
            "------------------------------------------------------------------------------------------\n",
            "3:Sci/Tech --> b'Giant pandas in China reserve get Wi-Fi' --> b'Giant pandas may well prefer bamboo to laptops, but wireless technology is helping researchers in China in their efforts to protect the engandered animals living in the remote Wolong Nature Reserve.'\n",
            "------------------------------------------------------------------------------------------\n",
            "0:World --> b'Low turnout for Lithuania #39;s elections' --> b'VILNIUS, Lithuania - Lithuania #39;s main parties formed an alliance to try to keep a Russian-born tycoon and his populist promises out of the government in Sunday #39;s second round of parliamentary elections in this Baltic country.'\n",
            "------------------------------------------------------------------------------------------\n",
            "0:World --> b'Witness says CIA oversaw abuse at Abu Ghraib' --> b'Witnesses in the trial of a US soldier charged with abusing prisoners at Abu Ghraib have told the court that the CIA sometimes directed abuse and orders were received from military command to toughen interrogations.'\n",
            "------------------------------------------------------------------------------------------\n",
            "1:Sport --> b'Dan Olsen leads PGA qualifying school' --> b'Dan Olsen of Ponte Vedra Beach, Fla., shot a 7-under 65 Thursday to take a one-shot lead after two rounds of the PGA Tour qualifying tournament.'\n",
            "------------------------------------------------------------------------------------------\n"
          ]
        }
      ],
      "source": [
        "train_data = dataset['train']\n",
        "test_data = dataset['test']\n",
        "\n",
        "classNames = ['World', 'Sport', 'Business', 'Sci/Tech']\n",
        "for i, x in zip(range(10), train_data):\n",
        "    print(f\"{x['label']}:{classNames[x['label']]} --> {x['title']} --> {x['description']}\")\n",
        "    print('-'*90)"
      ]
    },
    {
      "cell_type": "code",
      "execution_count": 43,
      "id": "6b24f6bf-5726-432d-aec2-91cf548bc5c2",
      "metadata": {
        "id": "6b24f6bf-5726-432d-aec2-91cf548bc5c2"
      },
      "outputs": [],
      "source": [
        "# Build vectorizer"
      ]
    },
    {
      "cell_type": "code",
      "execution_count": 44,
      "id": "4136605a-1aa9-4b35-bb2a-1c43053be576",
      "metadata": {
        "id": "4136605a-1aa9-4b35-bb2a-1c43053be576"
      },
      "outputs": [],
      "source": [
        "#from keras.layers.experimental.preprocessing import TextVectorization\n",
        "#vectorizer = TextVectorization(max_tokens=5000)\n",
        "\n",
        "vectorizer = tf.keras.layers.TextVectorization(max_tokens = 10000, output_sequence_length=300)\n",
        "vectorizer.adapt(train_data.take(500).map(lambda x: x['title']+ \" \"+ x['description']))"
      ]
    },
    {
      "cell_type": "code",
      "execution_count": 45,
      "id": "0c77c685-bc59-486b-b0c2-5e3d39179885",
      "metadata": {
        "id": "0c77c685-bc59-486b-b0c2-5e3d39179885"
      },
      "outputs": [],
      "source": [
        "vocabs = vectorizer.get_vocabulary()"
      ]
    },
    {
      "cell_type": "code",
      "execution_count": 46,
      "id": "8da52111-85c6-49d0-8235-1a1c8fc6b671",
      "metadata": {
        "colab": {
          "base_uri": "https://localhost:8080/"
        },
        "id": "8da52111-85c6-49d0-8235-1a1c8fc6b671",
        "outputId": "2db5ee04-c44e-4647-94e9-322a0436b48d"
      },
      "outputs": [
        {
          "output_type": "stream",
          "name": "stdout",
          "text": [
            "5335\n"
          ]
        }
      ],
      "source": [
        "vocab_size = len(vocabs)\n",
        "print(vocab_size)"
      ]
    },
    {
      "cell_type": "code",
      "execution_count": 47,
      "id": "0e85f444-be81-4bb5-846f-bb3fc0929c75",
      "metadata": {
        "colab": {
          "base_uri": "https://localhost:8080/"
        },
        "id": "0e85f444-be81-4bb5-846f-bb3fc0929c75",
        "outputId": "4437d696-7f40-4e86-d5ed-9770dcf01d38"
      },
      "outputs": [
        {
          "output_type": "stream",
          "name": "stdout",
          "text": [
            "['', '[UNK]', 'the', 'to', 'a', 'in', 'of', 'and', 'on', 'for', '39s', 'with', 'that', 'its', 'as', 'new', 'at', 'is', 'said', 'by', 'reuters', 'from', 'it', 'us', 'has', 'an', 'will', 'ap', 'after', 'his', 'be', 'first', 'have', 'two', 'was', 'this', 'monday', 'are', 'he', 'but', 'wednesday', 'up', 'their', 'iraq', 'more', 'world', 'they', 'than', 'into', 'company', 'were', 'over', 'thursday', 'who', 'no', 'president', 'oil', 'not', 'york', 'year', 'security', 'friday', 'against', 'one', 'talks', 'years', 'people', 'million', 'last', 'four', 'could', 'tuesday', 'sunday', 'quot', 'week', 'end', 'yesterday', 'un', 'second', 'says', 'out', '2004', 'off', 'nuclear', 'microsoft', 'may', 'killed', 'government', 'about', 'would', 'united', 'peace', 'internet', 'group', 'can', 'back', 'today', 'time', 'team', 'software', 'saturday', 'plans', 'next', 'inc', 'if', 'had', 'china', 'been', 'win', 'technology', 'some', 'now', 'i', 'gaza', 'corp', '39t', 'which', 'when', 'top', 'south', 'since', 'season', 'prices', 'police', 'percent', 'north', 'market', 'just', 'bush', '39', 'washington', 'record', 'network', 'month', 'major', 'iraqi', 'get', 'firm', 'european', 'deal', 'business', 'web', 'three', 'space', 'set', 'series', 'release', 'palestinian', 'other', 'officials', 'news', 'make', 'ltbgtltbgt', 'google', 'game', 'final', 'darfur', 'announced', 'you', 'while', 'stocks', 'start', 'sports', 'oracle', 'night', 'london', 'league', 'lead', 'iran', 'early', 'day', 'court', 'coach', 'all', 'afp', 'yahoo', 'users', 'uk', 'still', 'service', 'pm', 'pay', 'online', 'minister', 'made', 'linux', 'least', 'largest', 'international', 'home', 'head', 'found', 'football', 'even', 'election', 'country', 'chief', 'bid', 'attacks', 'agency', '2', 'your', 'way', 'union', 'told', 'states', 'showed', 'region', 'rebels', 'music', 'less', 'leader', 'latest', 'help', 'general', 'former', 'cup', 'center', 'agreed', 'sites', 'shares', 'sales', 'rival', 'part', 'or', 'office', 'offer', 'national', 'move', 'mobile', 'memory', 'media', 'like', 'john', 'executive', 'economy', 'data', 'case', 'british', 'billion', 'apple', 'another', 'won', 'wins', 'vote', 'video', 'victory', 'troops', 'strip', 'stock', 'southern', 'school', 'say', 'report', 'price', 'presidential', 'official', 'najaf', 'military', 'keep', 'ibm', 'hit', 'high', 'held', 'growth', 'give', 'expected', 'elections', 'dead', 'cut', 'championship', 'big', 'being', 'because', 'baghdad', 'australia', 'attack', 'across', 'according', '2005', '12', '10', 'without', 'wireless', 'west', 'weekend', 'war', 'turkey', 'through', 'them', 'sun', 'sudan', 'strong', 'sox', 'soldiers', 'should', 'share', 'services', 'september', 'see', 'scientists', 'round', 'rise', 'red', 'play', 'peoplesoft', 'pc', 'open', 'number', 'korea', 'israeli', 'investors', 'intel', 'house', 'her', 'global', 'giant', 'fraud', 'foreign', 'fans', 'euro', 'earnings', 'digital', 'close', 'buy', 'bowl', 'bomb', 'between', 'best', 'bank', 'around', 'african', 'wounded', 'what', 'well', 'weeks', 'violence', 'tour', 'then', 'target', 'system', 'straight', 'state', 'sony', 'seven', 'sell', 'search', 'run', 'return', 'quarter', 'profits', 'products', 'press', 'plan', 'past', 'others', 'only', 'offensive', 'near', 'militants', 'men', 'mark', 'main', 'loss', 'left', 'lawsuit', 'land', 'jobs', 'india', 'including', 'how', 'gold', 'go', 'german', 'games', 'forces', 'europe', 'england', 'during', 'desktop', 'death', 'cuts', 'countries', 'continue', 'co', 'britain', 'biggest', 'before', 'beat', 'ball', 'away', 'available', 'amp', 'american', 'ago', 'accused', '40', '3', '25', '11', 'yen', 'work', 'where', 'weapons', 'wants', 'virus', 'vice', 'utah', 'use', 'university', 'under', 'trial', 'trade', 'title', 'times', 'third', 'there', 'teams', 'takes', 'soldier', 'six', 'site', 'several', 'rose', 'reserve', 'researchers', 'research', 'released', 'rate', 'program', 'player', 'place', 'phones', 'phone', 'per', 'party', 'outlook', 'opposition', 'oct', 'nations', 'named', 'much', 'many', 'making', 'lta', 'look', 'likely', 'life', 'libya', 'launch', 'late', 'large', 'lanka', 'killing', 'key', 'japan', 'itunes', 'israel', 'houston', 'hold', 'him', 'higher', 'france', 'food', 'five', 'firefox', 'file', 'few', 'federal', 'family', 'extends', 'expand', 'eu', 'ended', 'eight', 'down', 'dollar', 'did', 'despite', 'demand', 'customers', 'companies', 'closer', 'chip', 'chicago', 'capital', 'called', 'call', 'california', 'build', 'break', 'boston', 'boosted', 'black', 'better', 'beach', 'battle', 'basketball', 'astros', 'airways', 'africa', 'access', '20', '16', '12th', 'women', 'winning', 'western', 'we', 'watchdog', 'watch', 'vs', 'visit', 'until', 'trading', 'toward', 'tomorrow', 'tigers', 'those', 'thirdquarter', 'texas', 'supply', 'stop', 'stay', 'star', 'st', 'sri', 'spending', 'sign', 'shot', 'short', 'sees', 'seattle', 'saying', 'same', 'rss', 'role', 'reports', 'recent', 'received', 'rebel', 'real', 'ready', 'reached', 'reach', 'rare', 'raised', 'radio', 'quarterly', 'public', 'professional', 'prime', 'players', 'performance', 'pension', 'palestinians', 'ordered', 'order', 'olympic', 'october', 'novell', 'negotiations', 'needs', 'need', 'nearly', 'mob', 'might', 'member', 'meeting', 'match', 'manchester', 'manager', 'makes', 'madrid', 'lows', 'lost', 'long', 'local', 'living', 'little', 'line', 'light', 'level', 'leaders', 'law', 'interview', 'insurance', 'inning', 'injured', 'industry', 'identity', 'iaea', 'hostage', 'hopes', 'hope', 'holes', 'hits', 'got', 'gets', 'fuel', 'forward', 'force', 'florida', 'flat', 'fla', 'fired', 'financial', 'fight', 'express', 'expansion', 'executives', 'ever', 'ending', 'email', 'electronics', 'economic', 'department', 'dell', 'days', 'current', 'consumers', 'claim', 'city', 'changes', 'car', 'both', 'boss', 'boeing', 'board', 'blood', 'based', 'ban', 'asian', 'arsenal', 'applications', 'apparently', 'america', 'also', 'allow', 'ahead', 'agreement', 'again', 'afghanistan', 'administration', 'abu', '8', '6', '39ve', '35', '30', '151', '14', 'worlds', 'woods', 'woman', 'witnesses', 'willingham', 'williams', 'white', 'whether', 'website', 'warming', 'waiting', 'voted', 'version', 'used', 'update', 'upbeat', 'unit', 'ukraines', 'tv', 'travel', 'too', 'thousands', 'tests', 'test', 'television', 'tech', 'tax', 'taking', 'takeover', 'take', 'switch', 'super', 'sues', 'sudans', 'study', 'streak', 'stake', 'spacecraft', 'soon', 'so', 'smart', 'shrine', 'sharing', 'settlement', 'servers', 'sept', 'senior', 'seen', 'secure', 'secretary', 'science', 'scheduled', 'saw', 'saudi', 'san', 'samsung', 'sale', 'russian', 'room', 'roger', 'rivals', 'right', 'revenue', 'results', 'resolution', 'reported', 'rejected', 'refugee', 'reasons', 'rally', 'raises', 'race', 'questionable', 'question', 'putting', 'putin', 'put', 'push', 'proposed', 'promises', 'programme', 'producer', 'prize', 'privately', 'private', 'powerful', 'power', 'points', 'pledge', 'personal', 'pcs', 'patriots', 'passes', 'parties', 'parmalat', 'park', 'paper', 'palm', 'pakistan', 'own', 'osama', 'option', 'operating', 'offers', 'notre', 'norway', 'ninth', 'nfl', 'never', 'nation', 'nasa', 'names', 'most', 'months', 'money', 'millions', 'militant', 'miami', 'masters', 'mars', 'maker', 'mae', 'lukoil', 'louis', 'los', 'leaving', 'launches', 'laden', 'korean', 'king', 'job', 'japanese', 'italian', 'investigation', 'investigating', 'information', 'indian', 'hundreds', 'hp', 'holds', 'hockey', 'henry', 'guidance', 'groups', 'given', 'george', 'gave', 'futures', 'funds', 'fresh', 'free', 'francisco', 'forecast', 'firing', 'filed', 'fell', 'fast', 'fannie', 'extra', 'extend', 'equipment', 'enterprise', 'enrichment', 'enough', 'energy', 'ends', 'embargo', 'edge', 'earth', 'each', 'dutch', 'due', 'don', 'domestic', 'domain', 'does', 'do', 'distance', 'dispute', 'disney', 'detroit', 'decline', 'dame', 'crude', 'cricket', 'creating', 'cp', 'council', 'corporate', 'confirmed', 'claims', 'civil', 'cincinnati', 'chinese', 'chile', 'certain', 'cash', 'cardinals', 'captured', 'canadian', 'camp', 'calls', 'ca', 'built', 'browser', 'breakthrough', 'boost', 'body', 'block', 'bin', 'believed', 'become', 'banks', 'banking', 'auto', 'authorities', 'au', 'atomic', 'asia', 'arm', 'application', 'aol', 'any', 'annual', 'annan', 'angeles', 'alex', 'airport', 'aid', 'afghan', 'acquire', '5', '4', '31', '3000', '27', '1', 'zook', 'yushchenko', 'young', 'yards', 'wrong', 'write', 'wounding', 'worth', 'worry', 'worldwide', 'workers', 'word', 'wont', 'wifi', 'went', 'warning', 'wait', 'voting', 'visiting', 'vienna', 'victims', 'urges', 'uranium', 'universal', 'unclear', 'unbeaten', 'turning', 'turn', 'trying', 'try', 'trophy', 'towards', 'total', 'took', 'tokyo', 'tiny', 'threeshot', 'threatened', 'threat', 'thanks', 'terrorists', 'terrorism', 'terror', 'tehran', 'technologies', 'tapes', 'taipei', 'systems', 'suspension', 'suse', 'survey', 'supreme', 'support', 'suit', 'sudanese', 'success', 'streets', 'street', 'strategy', 'story', 'store', 'steelers', 'started', 'spaceshipone', 'source', 'sorenstam', 'somerville', 'soft', 'soccer', 'small', 'slow', 'slightly', 'sir', 'singles', 'signed', 'show', 'server', 'selling', 'seeking', 'securities', 'seconds', 'scrap', 'score', 'schedule', 'russia', 'running', 'rover', 'rounds', 'ron', 'rockets', 'review', 'retail', 'resolving', 'republican', 'religious', 'releases', 'reform', 'referendum', 'reelection', 'redknapp', 'rap', 'racing', 'quotthe', 'questions', 'quest', 'quarterback', 'qualifying', 'pushing', 'pushed', 'published', 'pt', 'proxy', 'protests', 'protect', 'progress', 'processor', 'process', 'problem', 'probe', 'pressure', 'powell', 'post', 'position', 'poll', 'political', 'playboy', 'planning', 'piracy', 'photo', 'paul', 'palmone', 'p2p', 'our', 'once', 'olympics', 'old', 'offering', 'odds', 'november', 'northern', 'nobel', 'nl', 'nigeria', 'networks', 'net', 'nepal', 'neon', 'nbc', 'nba', 'nature', 'nathan', 'name', 'my', 'muslim', 'multimedia', 'muhammad', 'moved', 'motors', 'moon', 'missile', 'militia', 'meyer', 'mets', 'merger', 'merge', 'medal', 'mcteer', 'mclennan', 'mass', 'martin', 'marsh', 'manned', 'managers', 'management', 'malaysia', 'makers', 'lower', 'low', 'looks', 'looking', 'longer', 'longawaited', 'locusts', 'lithuania', 'lineup', 'liberty', 'leverkusen', 'levels', 'legal', 'leaves', 'leading', 'leadership', 'labor', 'knew', 'kill', 'keeps', 'karzai', 'kabul', 'june', 'joint', 'join', 'jim', 'jersey', 'jazzes', 'jan', 'ivan', 'issues', 'islamic', 'isiah', 'irish', 'ipod', 'investment', 'introduce', 'interests', 'insurgents', 'insurer', 'injury', 'injuring', 'infineon', 'includes', 'improved', 'important', 'hydrogen', 'hurt', 'hurricane', 'humans', 'housing', 'hostages', 'hewlettpackard', 'here', 'helped', 'heart', 'health', 'hard', 'halt', 'hall', 'greece', 'granted', 'govt', 'good', 'giving', 'germany', 'ge', 'gatlin', 'gateway', 'future', 'further', 'fund', 'format', 'forced', 'following', 'focus', 'flight', 'fire', 'finally', 'fighting', 'fiat', 'ferguson', 'feel', 'federer', 'faster', 'falls', 'experts', 'expects', 'exhibition', 'established', 'entertainment', 'enter', 'enforcement', 'endorsed', 'emissions', 'elsewhere', 'efforts', 'education', 'driver', 'drive', 'double', 'donald', 'division', 'disarm', 'different', 'die', 'destruction', 'designed', 'design', 'demands', 'delaware', 'defense', 'decision', 'december', 'decades', 'dec', 'deadline', 'david', 'date', 'dark', 'dallas', 'curse', 'currently', 'crisis', 'criminal', 'cover', 'costs', 'conway', 'controversial', 'control', 'contract', 'content', 'consumer', 'conquer', 'conflict', 'confident', 'computers', 'computer', 'complete', 'committed', 'commission', 'coming', 'comes', 'come', 'com', 'college', 'coleman', 'coast', 'club', 'claiming', 'chris', 'chinas', 'chennai', 'charged', 'charge', 'champions', 'central', 'cent', 'cell', 'cassini', 'cars', 'card', 'canada', 'campaign', 'cameras', 'calling', 'calif', 'broncos', 'broad', 'bring', 'boxing', 'boom', 'books', 'book', 'blasts', 'bill', 'baseball', 'bangladesh', 'bangalore', 'bad', 'backing', 'awarded', 'avaya', 'august', 'auction', 'attorney', 'atlanta', 'athens', 'art', 'army', 'armstrong', 'arms', 'armed', 'aren', 'area', 'arafat', 'arabia', 'appliance', 'answer', 'announces', 'announce', 'animals', 'ampm', 'amid', 'ambitions', 'ambassador', 'am', 'ally', 'alleging', 'ali', 'alert', 'ala', 'air', 'agree', 'advance', 'abs', 'above', 'able', '9', '80', '6500', '62', '60', '52', '3g', '29', '24', '21', '2007', '1990s', '19', '15', '120', '100', 'zemin', 'youth', 'yasser', 'yao', 'x', 'worries', 'wnba', 'withdraw', 'wisconsin', 'winter', 'winners', 'windows', 'windfall', 'wimax', 'wildlife', 'wife', 'wider', 'whose', 'whats', 'werder', 'weigh', 'websites', 'weather', 'weakness', 'waves', 'wave', 'washingtonpostcom', 'warren', 'warned', 'want', 'walt', 'walk', 'wales', 'vw', 'votes', 'vladimir', 'vivisimo', 'vivendi', 'visionimpaired', 'virtually', 'virgin', 'viktor', 'view', 'vietnam', 'victim', 'veterans', 'very', 'versus', 'verizon', 'vendor', 'vaughan', 'valued', 'va', 'usrussian', 'user', 'usc', 'usbased', 'usa', 'urged', 'urban', 'upgrade', 'upcoming', 'unveils', 'untested', 'unique', 'unexpectedly', 'unemployment', 'una', 'ultimate', 'tyrone', 'txu', 'turned', 'turkish', 'turismo', 'tungstent5', 'tumut', 'tsunami', 'true', 'trucks', 'truck', 'truce', 'trouser', 'troubled', 'trouble', 'trojans', 'trio', 'transfer', 'transactions', 'training', 'train', 'traditional', 'traders', 'track', 'toy', 'township', 'tournament', 'touchdowns', 'toshiba', 'toronto', 'tivo', 'titan', 'tiger', 'threegame', 'threats', 'thoughts', 'though', 'thomas', 'think', 'thieves', 'thief', 'theft', 'text', 'terrorist', 'terms', 'tennis', 'telegraph', 'taunts', 'tapped', 'taiwan', 'symantec', 'swiss', 'suspects', 'survivor', 'supplier', 'supercomputer', 'sundays', 'summer', 'suits', 'suing', 'suggestion', 'sued', 'successfully', 'subsidiary', 'subpoenas', 'subject', 'studio', 'struggling', 'stronger', 'strength', 'stormed', 'storage', 'stewart', 'steps', 'stemming', 'stelco', 'steel', 'steal', 'status', 'statistics', 'station', 'starting', 'stansted', 'stands', 'standoff', 'standard', 'stage', 'staff', 'stabbed', 'spurs', 'sprinter', 'spot', 'spokesman', 'spitzer', 'spent', 'species', 'spark', 'spaceship', 'spacecom', 'sovereign', 'sore', 'song', 'sms', 'slump', 'slide', 'skis', 'singh', 'silicon', 'significant', 'side', 'shows', 'shortage', 'shipments', 'shiite', 'shift', 'shelters', 'shellshock', 'sharon', 'shark', 'shareholders', 'shareholder', 'shaik', 'severstal', 'severe', 'seventh', 'setting', 'sets', 'setback', 'session', 'sentiment', 'sent', 'sensitive', 'send', 'senator', 'senate', 'sellers', 'selfrule', 'seized', 'seems', 'seemed', 'sedans', 'sector', 'secretarygeneral', 'seasons', 'scrambling', 'scott', 'scores', 'scored', 'schools', 'schilling', 'schalk', 'scale', 'sayyaf', 'sanctions', 'sample', 'salvage', 'saidon', 'safina', 's', 'ryder', 'runs', 'ruled', 'rule', 'rudnick', 'row', 'rout', 'roughly', 'rossignol', 'rooney', 'ronaldo', 'romanias', 'rolling', 'rods', 'rocket', 'rock', 'roberto', 'risk', 'rises', 'ribs', 'reward', 'revive', 'reveals', 'resume', 'result', 'restitution', 'resolve', 'resignation', 'replace', 'repeat', 'remote', 'remember', 'remains', 'remain', 'relations', 'rejects', 'regulatory', 'register', 'refused', 'reflect', 'referred', 'reduce', 'redlight', 'recovered', 'records', 'recognised', 'receiver', 'reads', 'read', 'reactor', 'rattle', 'rating', 'rather', 'rape', 'ransom', 'ranks', 'raise', 'raiders', 'racy', 'racist', 'quit', 'quicksilver', 'questioned', 'quarterfinals', 'quakes', 'pyramid', 'purse', 'purchase', 'publishers', 'prudential', 'provides', 'protest', 'protection', 'promote', 'project', 'profit', 'production', 'product', 'procession', 'problems', 'probably', 'pro', 'princess', 'primary', 'priced', 'previous', 'prepared', 'preliminary', 'practices', 'practice', 'posted', 'possible', 'positive', 'popups', 'popup', 'population', 'polycom', 'politician', 'polish', 'polio', 'pointing', 'ploy', 'plenty', 'played', 'plant', 'planes', 'plane', 'pivotal', 'pittsburgh', 'pitches', 'pitcher', 'piper', 'pilots', 'pill', 'pilgrims', 'pigs', 'pig', 'philippines', 'phil', 'pga', 'peoria', 'peoples', 'pentagon', 'penguins', 'penalties', 'peaceful', 'pays', 'pavin', 'path', 'passengers', 'passenger', 'passed', 'partial', 'panel', 'pandemic', 'pandas', 'pakistani', 'page', 'package', 'pa', 'owners', 'overall', 'otherwise', 'oswalt', 'origin', 'organization', 'orders', 'options', 'opteron', 'opponents', 'operations', 'operation', 'opening', 'opened', 'opec', 'onto', 'ongoing', 'olsen', 'olive', 'oilforfood', 'ohio', 'offshore', 'officially', 'odb', 'nuts', 'nukes', 'northwestern', 'northrop', 'northeast', 'normal', 'nokia', 'nine', 'niigata', 'nigerian', 'niche', 'nhl', 'newsfactor', 'newly', 'newest', 'netflix', 'needed', 'neck', 'nearsightedness', 'ncaa', 'nascar', 'nasas', 'nam', 'nalbandian', 'murphy', 'murdoch', 'murder', 'munro', 'mozilla', 'movenpick', 'mourning', 'morning', 'montreal', 'mojave', 'mohr', 'mohawk', 'model', 'modalities', 'mobiles', 'mo', 'mixed', 'miss', 'misconduct', 'mini', 'milwaukee', 'mills', 'milestone', 'middle', 'microsystems', 'microprocessor', 'michael', 'meters', 'metal', 'messages', 'members', 'megson', 'meet', 'medics', 'mcneal', 'mcnair', 'mcgill', 'maurice', 'matter', 'material', 'matchup', 'massu', 'massive', 'massacre', 'martinez', 'martha', 'marks', 'mariners', 'marche', 'march', 'man', 'maintained', 'macromedia', 'luke', 'ltd', 'lowell', 'lowcost', 'lot', 'losses', 'loses', 'loser', 'longtime', 'longrunning', 'logan', 'loans', 'loaded', 'llp', 'lives', 'livermore', 'list', 'liquidity', 'link', 'limited', 'lift', 'licensing', 'liberation', 'lets', 'let', 'lens', 'led', 'leave', 'learn', 'lay', 'laws', 'launched', 'later', 'larry', 'landmine', 'landing', 'lake', 'laboratory', 'label', 'l', 'koreas', 'kofi', 'kobe', 'knows', 'kiprusoff', 'kidnapped', 'khartoum', 'kerry', 'kazaa', 'kansas', 'jusuf', 'judges', 'judge', 'jr', 'jordanian', 'jones', 'johnny', 'jobless', 'jenkins', 'jebaliya', 'january', 'james', 'ivory', 'items', 'italy', 'issued', 'island', 'investor', 'investigators', 'interim', 'interesting', 'insurgent', 'insurers', 'instead', 'insolvency', 'initial', 'infoworld', 'inflation', 'inflate', 'inevitable', 'indonesian', 'indies', 'incursion', 'increase', 'improvements', 'improve', 'imports', 'implanted', 'impact', 'immunization', 'immediately', 'imam', 'image', 'illegal', 'iliescu', 'idea', 'idc', 'ice', 'hyundai', 'hunt', 'humana', 'human', 'huge', 'hovering', 'hostile', 'hopeful', 'homer', 'holocaust', 'hollywood', 'holding', 'historic', 'himself', 'highspeed', 'highend', 'helping', 'heavily', 'healthy', 'headed', 'hat', 'harry', 'harm', 'hannah', 'handset', 'hands', 'hand', 'hammer', 'hamm', 'hamid', 'hamas', 'half', 'haitians', 'gymnast', 'guy', 'guthrie', 'gulf', 'guilty', 'guerrouj', 'guard', 'grumman', 'grudzielanek', 'grokster', 'groin', 'greenspan', 'green', 'greater', 'great', 'graveyard', 'graphics', 'gran', 'goosen', 'gone', 'golf', 'goals', 'gmail', 'gm', 'glory', 'gives', 'giants', 'ghraib', 'ghanas', 'gerrard', 'gen', 'gear', 'gangsters', 'galloway', 'gains', 'gain', 'funeral', 'full', 'fulham', 'frontier', 'french', 'freeze', 'fraudulent', 'fourth', 'foul', 'fort', 'formal', 'form', 'foreigners', 'forecasts', 'foot', 'follows', 'focused', 'fly', 'flow', 'flash', 'flames', 'firms', 'finds', 'finals', 'films', 'fill', 'filing', 'files', 'fighters', 'fields', 'fidelity', 'fedex', 'fed', 'fears', 'fear', 'far', 'families', 'familiar', 'false', 'fallujah', 'fall', 'fails', 'failed', 'faces', 'face', 'extended', 'explosions', 'exploded', 'experiment', 'expanded', 'evidence', 'everton', 'eurozone', 'euros', 'espn', 'era', 'enron', 'engineer', 'endorsement', 'employment', 'employees', 'emotional', 'emerging', 'embassy', 'elvis', 'ellinger', 'elites', 'elected', 'elantra', 'el', 'either', 'eilat', 'eddy', 'ebay', 'eating', 'eases', 'earnhardt', 'earlier', 'dualcore', 'drugs', 'dropped', 'drinks', 'dream', 'drawn', 'doubles', 'dont', 'done', 'dollars', 'doesn', 'dividend', 'dismissed', 'disclosed', 'disc', 'directly', 'diplomats', 'dillon', 'dig', 'difficult', 'dies', 'died', 'diana', 'diageo', 'devices', 'developments', 'development', 'developed', 'develop', 'devastating', 'deutsche', 'deployed', 'denver', 'delhi', 'deficit', 'defend', 'defencemen', 'defence', 'decided', 'decade', 'deadlock', 'dan', 'damages', 'dale', 'd', 'cybertrust', 'cutting', 'curry', 'cue', 'cubs', 'crime', 'crawford', 'cowher', 'couldn', 'cost', 'corporation', 'corey', 'controversy', 'contracts', 'continues', 'continued', 'contender', 'consider', 'conocophillips', 'connecticut', 'confidence', 'conference', 'condemned', 'comply', 'completes', 'completed', 'competition', 'compete', 'common', 'committee', 'colorado', 'colin', 'cold', 'coinciding', 'coffey', 'cocacola', 'clubbers', 'climb', 'cleric', 'clemente', 'clemens', 'clashes', 'clash', 'claimed', 'citizenship', 'citing', 'cingular', 'cia', 'church', 'choosing', 'chocolate', 'children', 'cheating', 'chavez', 'charlton', 'charlie', 'charging', 'charges', 'changing', 'change', 'chance', 'champion', 'centre', 'ceasefire', 'cause', 'cast', 'carrying', 'career', 'cards', 'caracas', 'captures', 'captains', 'captain', 'capping', 'capacity', 'cap', 'cancer', 'camera', 'came', 'camacho', 'calpers', 'cairo', 'cabinet', 'buyback', 'businesses', 'burger', 'bulls', 'bullpen', 'building', 'buick', 'bucks', 'bryant', 'brussels', 'brother', 'broker', 'broken', 'britons', 'brigades', 'brewers', 'bremen', 'breeders', 'brazil', 'brands', 'braced', 'bpo', 'boycott', 'bowden', 'bourque', 'bottom', 'bosnia', 'bones', 'bombings', 'boise', 'bmg', 'blues', 'blue', 'blow', 'blocker', 'blockbuster', 'bit', 'biometric', 'bills', 'billions', 'billionaire', 'bibby', 'bhutto', 'bhp', 'bettis', 'berlin', 'bengals', 'benefit', 'ben', 'below', 'belonging', 'believes', 'believe', 'beijing', 'begins', 'begin', 'began', 'became', 'beats', 'bayer', 'bases', 'barcelona', 'bali', 'bacs', 'backed', 'awesome', 'awash', 'award', 'awaited', 'aviva', 'average', 'authority', 'austria', 'australian', 'aug', 'attention', 'attempt', 'attanasio', 'atrocities', 'atmosphere', 'atlantic', 'assured', 'assembled', 'assault', 'asked', 'ashado', 'artist', 'article', 'arrested', 'areas', 'arbitration', 'arab', 'approved', 'appeals', 'app', 'anwar', 'antitrust', 'antidoping', 'anticipated', 'antenna', 'ansari', 'anniversary', 'animated', 'andi', 'analysts', 'ampp', 'among', 'amd', 'alternative', 'already', 'alpha', 'alou', 'along', 'almost', 'allowed', 'allout', 'alliance', 'allegedly', 'alleged', 'allegations', 'aljazeera', 'alan', 'al', 'akhtar', 'airline', 'aimed', 'aim', 'ahl', 'agents', 'ag', 'aftershocks', 'aerospace', 'adviser', 'advertisements', 'adopted', 'adjustment', 'activities', 'active', 'action', 'act', 'acquisition', 'acquiring', 'acquired', 'accusing', 'abuse', 'abruptly', 'abducted', 'abbas', 'abandon', 'ab', '90000', '74', '7000', '65', '55', '5000', '50', '47', '39re', '39ll', '38ghz', '37', '340', '34', '33', '32', '2nd', '26', '2412', '23', '22nd', '21yearold', '2002', '19yearold', '18', '1500', '13', '120000', '118', '06', '05', '0', 'zealand', 'zabransky', 'yunis', 'yugoslav', 'youve', 'youto', 'youths', 'youll', 'yorkibm', 'ynez', 'yet', 'yellow', 'yearend', 'yankees', 'yang', 'xmas', 'xinhua', 'ximian', 'x8664', 'wwzn', 'www', 'wutang', 'wry', 'writers', 'wright', 'wrath', 'wrapped', 'wrap', 'wounds', 'wouldbe', 'worthy', 'worthless', 'worst', 'worms', 'workstations', 'workshop', 'working', 'worker', 'worcester', 'woody', 'wood', 'wondering', 'wonderful', 'wondered', 'wolong', 'wmd', 'witty', 'witness', 'within', 'wishes', 'wire', 'winless', 'winds', 'wilson', 'wilmington', 'williamson', 'wilfredo', 'wildcard', 'wild', 'widening', 'wide', 'whopper', 'wholly', 'whole', 'whips', 'whipped', 'whiplash', 'whereabouts', 'werelifted', 'welsh', 'welfare', 'welcome', 'weis', 'weight', 'weekold', 'weekly', 'wedemen', 'wedeman', 'webex', 'webconferencing', 'weaponsgrade', 'wealthy', 'ways', 'wayne', 'wavesat', 'wavering', 'water', 'wasnt', 'wasn', 'warnings', 'wanton', 'wanting', 'wanted', 'wang', 'waltham', 'wallace', 'wall', 'walkouts', 'walkerltbgtltfontgt', 'wake', 'waca', 'w', 'vying', 'vowed', 'votesin', 'voters', 'volvo', 'volume', 'volos', 'voice', 'voca', 'visited', 'vision', 'visible', 'virginia', 'vioxx', 'violentattacks', 'violation', 'violating', 'vilnius', 'villagers', 'vijay', 'viewer', 'videophone', 'victories', 'vicepresident', 'viavideo', 'verbal', 'venezuelanspray', 'venezuelans', 'venezuelan', 'venezuela', 'vendors', 'velazquez', 'veins', 'vehicles', 'vehicle', 'vedra', 'vanished', 'vancouver', 'validation', 'valdez', 'valdesperez', 'vague', 'vacant', 'v', 'uttering', 'utmost', 'usual', 'usterrorismrelated', 'uslebanese', 'using', 'uses', 'usefulness', 'us338billion', 'urine', 'urging', 'upwards', 'upto', 'upset', 'upscale', 'uprising', 'uphold', 'upheld', 'update1', 'up09', 'unwilling', 'unveil', 'unseat', 'unrelated', 'unraveled', 'unpleasant', 'unlikely', 'unless', 'unitboosted', 'unicef', 'uni', 'unharmed', 'unhappy', 'understanding', 'understandable', 'undermines', 'underground', 'under17', 'uncontrollably', 'uncertain', 'ultimatum', 'ulr', 'uks', 'ukrainian', 'ukraine', 'ubs', 'tycoon', 'txunys', 'tworun', 'twoday', 'twococoa', 'twice', 'twelve', 'tussle', 'turnoverplagued', 'turnout', 'turnaround', 'turkeys', 'turk', 'tune', 'trustee', 'trustbuilding', 'trusecure', 'troubles', 'troop', 'triumph', 'tripling', 'trip', 'trinchera', 'trims', 'tried', 'tricks', 'trent', 'trend', 'trees', 'treat', 'trapped', 'translation', 'transition', 'transfers', 'transferred', 'tragic', 'trafford', 'tradeoff', 'traction', 'town', 'towel', 'tow', 'touts', 'toutatis', 'tours', 'tourism', 'toughen', 'tough', 'touchup', 'touches', 'touche', 'tottenham', 'toss', 'toship', 'toshack', 'tornadoes', 'torii', 'topseeded', 'tops', 'toppling', 'toppled', 'topping', 'toplisted', 'tools', 'tonight', 'tone', 'tomb', 'toll', 'tolerate', 'tokyos', 'together', 'todecide', 'todayfirefox', 'tmobile', 'titles', 'titans', 'tissue', 'tires', 'tireless', 'tired', 'tinkering', 'tighten', 'tight', 'tidal', 'ticking', 'tickertape', 'thrown', 'throwing', 'throw', 'throughout', 'throne', 'threeyearold', 'threeweek', 'threatens', 'threatening', 'thornton', 'thomson', 'thinking', 'things', 'thin', 'thierry', 'these', 'thesame', 'theres', 'themselves', 'theirhomes', 'thats', 'thailand', 'thai', 'textbooks', 'texans', 'tested', 'term', 'teraflop', 'tennessee', 'tenn', 'tells', 'telephony', 'telecom', 'tehranvianna', 'teeth', 'technical', 'teammate', 'teachers', 'taxes', 'tasks', 'task', 'targetstocksquickinfofullquotegtpsftoltagt', 'targetstocksquickinfofullquotegtorcloltagt', 'targetstocksquickinfofullquotegtipnltagt', 'targetstocksquickinfofullquotegtintcoltagt', 'targetstocksquickinfofullquotegthumnltagt', 'targetstocksquickinfofullquotegtfdxnltagt', 'targeted', 'taps', 'tape', 'tankers', 'tandem', 'tampa', 'tamil', 'tame', 'tally', 'tallied', 'talladega', 'talking', 'talk', 'taliban', 'talented', 'talebanlinked', 'tale', 'taketwo', 'taken', 'taj', 'taiwanese', 'tailback', 'taeyoung', 'tackle', 't', 'systematically', 'sympathy', 'sydney', 'switzerland', 'switched', 'swiping', 'swimming', 'swift', 'sweeps', 'sweep', 'swarm', 'swap', 'swamped', 'suspicious', 'suspicion', 'suspend', 'suspected', 'surrounded', 'surge', 'surface', 'supposedly', 'supposed', 'supporters', 'supplies', 'supervise', 'supernovae', 'supernova', 'supercomputers', 'summary', 'suite', 'suhon', 'suharto', 'suggests', 'suggested', 'suggest', 'suffering', 'suffered', 'suffer', 'sue', 'sudden', 'such', 'successor', 'successful', 'succeeded', 'subscription', 'subscribers', 'suborbital', 'suboptimal', 'style', 'stunned', 'stumbling', 'studios', 'student', 'stubborn', 'struck', 'strongly', 'stronghold', 'strokes', 'strive', 'string', 'strikes', 'striker', 'strict', 'strengthening', 'strengthened', 'streams', 'streamline', 'streamed', 'straw', 'strategic', 'strain', 'straightset', 'straightaway', 'storm', 'stored', 'stopped', 'stonecipher', 'stolen', 'stockcar', 'stmicroelectronics', 'stir', 'stifling', 'stiffness', 'sticks', 'stick', 'steven', 'steve', 'steppes', 'steering', 'steelvine', 'steelmaker', 'steam', 'steady', 'statements', 'stata', 'starcrossed', 'standing', 'stand', 'stalled', 'stall', 'stalking', 'stalemate', 'staggeringly', 'stages', 'stadium', 'stability', 'squad', 'sputtering', 'sputnik', 'spurred', 'sprint', 'springtime', 'springboks', 'spring', 'spree', 'spread', 'sponsors', 'spoken', 'splashed', 'spinning', 'spill', 'spike', 'spice', 'sphv5400', 'spends', 'spend', 'spencer', 'spellings', 'speeds', 'speed', 'speech', 'speculative', 'speculations', 'speculation', 'spectrum', 'specter', 'specialized', 'spawning', 'spawn', 'spate', 'spanish', 'spain', 'spaceflight', 'soyuz', 'sourav', 'sounded', 'sound', 'sophomore', 'songswapping', 'sonar', 'sometimes', 'something', 'solution', 'solid', 'solely', 'solarisbased', 'solace', 'soil', 'soga', 'softwarepatch', 'softphone', 'society', 'social', 'soccers', 'soaring', 'snatched', 'snapshot', 'snake', 'smoothly', 'smith', 'smile', 'smell', 'smallest', 'smackhead', 'slowed', 'slithering', 'slipped', 'slew', 'slashdot', 'slab', 'skyscrapers', 'sky', 'skit', 'skipping', 'skills', 'ski', 'skeptics', 'sizzles', 'sizzled', 'size2', 'size', 'sixthlargest', 'sixth', 'situations', 'situation', 'sitting', 'sits', 'sitesa', 'sistani', 'sink', 'singapore', 'sinceearly', 'simple', 'simon', 'sihamoni', 'signals', 'signalled', 'signal', 'sights', 'sidewalks', 'sidestepping', 'sides', 'sideline', 'shuttered', 'shutout', 'shuibian', 'shuffles', 'shuffled', 'shrugged', 'shown', 'showing', 'shoulder', 'shortly', 'shopping', 'shoppers', 'shop', 'shoot', 'shook', 'shoes', 'shoe', 'shoaib', 'sho', 'shipping', 'ship', 'shining', 'shine', 'shields', 'shia', 'shi', 'shelter', 'shellshocked', 'shelf', 'sheet', 'sharply', 'sharpens', 'sharpen', 'shareholdings', 'shaken', 'shadows', 'sh', 'sfr', 'sevenyear', 'sevenfold', 'settlements', 'settled', 'settle', 'serving', 'seriousness', 'seriously', 'serifarialhelvetica', 'sergey', 'sequels', 'separate', 'seoul', 'sendup', 'semifinal', 'semiconductor', 'sells', 'selig', 'selected', 'seizing', 'seizes', 'seesaw', 'seeping', 'seeks', 'seek', 'seeing', 'secondlargest', 'sec', 'seat', 'searchgoogle', 'searches', 'searchers', 'seahawks', 'scripts', 'screen', 'scraps', 'scientific', 'schemes', 'schedules', 'schabir', 'scepticism', 'scent', 'scaring', 'scanners', 'scandal', 'scam', 'saving', 'save', 'saturn', 'satellite', 'santayana', 'santa', 'sans', 'sank', 'samples', 'samesex', 'samarraovernight', 'samarra', 'salute', 'salt', 'salary', 'safrica', 'safin', 'safety', 'sadr', 'sacrifices', 'sacrifice', 'sacramento', 'sabotage', 'saab', 'ruth', 'rutan', 'russias', 'russians', 'russianborn', 'russell', 'rushing', 'rushed', 'rupert', 'runup', 'runners', 'rumor', 'rugby', 'rubber', 'rsselsheim', 'rsselheim', 'royal', 'roy', 'rows', 'rowhani', 'routinely', 'routed', 'route', 'roster', 'roots', 'rootout', 'romp', 'rome', 'rocks', 'robert', 'robby', 'robberiesltpgt', 'roar', 'roads', 'river', 'rivalry', 'risks', 'ripple', 'riots', 'rigs', 'rights', 'righthander', 'rigged', 'ridden', 'richard', 'rfid', 'revolution', 'revoltracked', 'revives', 'revisions', 'revising', 'revered', 'revelations', 'revealing', 'reveal', 'reuben', 'returns', 'returning', 'returned', 'retreat', 'retire', 'retief', 'retained', 'retain', 'retailer', 'resumption', 'resuming', 'restructuring', 'restrictions', 'restraint', 'restoring', 'restore', 'restive', 'rested', 'restart', 'restaint', 'responds', 'respond', 'respect', 'resources', 'resort', 'resolves', 'resist', 'resigns', 'residents', 'reservation', 'require', 'requested', 'request', 'repurchase', 'republicans', 'republic', 'reproductive', 'reprocessed', 'representatives', 'reportedly', 'reply', 'reopened', 'reopen', 'renters', 'rental', 'remarks', 'remaining', 'remained', 'reloading', 'relievers', 'relied', 'relevant', 'releasing', 'relatively', 'relationship', 'rejoins', 'rejoin', 'rejecting', 'reject', 'regulators', 'regulations', 'regularseason', 'regular', 'regions', 'reggie', 'regardless', 'regarding', 'regaining', 'refusal', 'refreshing', 'refreshed', 'reference', 'reeling', 'reds', 'redeploying', 'recycle', 'recoup', 'recordlevels', 'recordings', 'recorder', 'recorded', 'recognition', 'recognises', 'recipients', 'recalls', 'recalling', 'rebuilding', 'rebuffs', 'rebuffed', 'rebound', 'rebelheld', 'reason', 'rearend', 'realm', 'reality', 'reaffirms', 'reading', 'readies', 'ray', 'raul', 'rates', 'rated', 'ranging', 'rangers', 'randy', 'ran', 'rampant', 'ramadi', 'ram', 'raising', 'railthin', 'raids', 'raid', 'radioshark', 'radical', 'r', 'quotyou', 'quotwellplanned', 'quotwe', 'quotwake', 'quottriangle', 'quotthose', 'quotthey', 'quotrevenueneutral', 'quotprecautionary', 'quotpoliticking', 'quotpoison', 'quotoptimistic', 'quothobbit', 'quotfirst', 'quotfinal', 'quote', 'quotdisappointed', 'quotcnn', 'quotbplus', 'quotbbminus', 'quotbb', 'quotbat', 'quot1918', 'quite', 'quell', 'quarterfinal', 'quarrel', 'quality', 'qualifier', 'quakestricken', 'qb', 'pyongyang', 'puts', 'putrajaya', 'pursues', 'purpose', 'purported', 'pupils', 'punch', 'pulls', 'pulling', 'providers', 'provided', 'provide', 'proved', 'prove', 'protocols', 'protocol', 'protesters', 'protestant', 'protege', 'prostitute', 'prosecution', 'prosecute', 'proposition', 'proposals', 'properties', 'promotion', 'promoting', 'promotes', 'promised', 'prominent', 'prometheus', 'prolonged', 'proliferating', 'projects', 'progressed', 'profited', 'profitable', 'profile', 'professor', 'producing', 'producers', 'produced', 'produce', 'proceeds', 'proceed', 'probablywill', 'privatize', 'prisoners', 'prison', 'priority', 'print', 'pricefixing', 'previously', 'preview', 'prevents', 'preventing', 'prevented', 'prevent', 'pretty', 'pressuring', 'presses', 'pressed', 'presleys', 'presidency', 'preserve', 'presence', 'presage', 'prepares', 'preparations', 'premium', 'premiership', 'premier', 'prefer', 'prefecture', 'predictions', 'predators', 'powers', 'poverty', 'poured', 'poultry', 'potty', 'potential', 'postseason', 'possibly', 'portugal', 'portsmouth', 'portion', 'populist', 'populated', 'popularly', 'popular', 'poor', 'poopers', 'ponte', 'polyphony', 'polls', 'politics', 'politicians', 'polishing', 'policy', 'policies', 'policemen', 'poisoning', 'pointed', 'point', 'pocket', 'pmdesignate', 'plus', 'plummeted', 'plummer', 'plumbs', 'plotting', 'plots', 'plot', 'pledging', 'pledged', 'pled', 'pleased', 'please', 'playoff', 'plate', 'plansgoogle', 'planners', 'pixar', 'pitting', 'pitching', 'pitch', 'pipeline', 'pioneer', 'pillinger', 'pilgrim', 'pieces', 'pictures', 'picking', 'pick', 'photographs', 'photofinish', 'phoenix', 'phishers', 'philippine', 'philip', 'philadelphia', 'phelps', 'phase', 'pharmaceuticals', 'petro', 'pete', 'pet', 'person', 'perry', 'perpetual', 'permitting', 'permission', 'perhaps', 'perfectly', 'perfect', 'pellets', 'peddled', 'pdt', 'pct', 'pci', 'payout', 'payments', 'pavano', 'pause', 'patterns', 'pats', 'patrons', 'patches', 'patch', 'password', 'passrushing', 'pass', 'partnership', 'partners', 'partner', 'particularly', 'participation', 'participated', 'parry', 'parliaments', 'parliamentary', 'parliament', 'parks', 'pardon', 'paragraph', 'papi', 'papers', 'pants', 'panathinaiko', 'palms', 'palestine', 'palace', 'pak', 'paired', 'paintings', 'pain', 'pages', 'pacific', 'pacers', 'pace', 'p', 'owns', 'owner', 'owned', 'overwhelminglyagainst', 'overturning', 'overturned', 'oversight', 'oversee', 'overseas', 'oversaw', 'overcome', 'overcharging', 'oval', 'outsourcing', 'outs', 'output', 'outlooks', 'outfielder', 'outer', 'oust', 'ortiz', 'organizers', 'organizations', 'orange', 'oracles', 'oqo', 'optional', 'opted', 'operator', 'opensource', 'opens', 'openness', 'openers', 'opener', 'opel', 'onwith', 'onslaught', 'onsecurity', 'onhardware', 'onetwo', 'oneshot', 'ones', 'onepage', 'omnimedia', 'omar', 'olusegun', 'olson', 'older', 'oks', 'oklahoma', 'ok', 'ojiya', 'offseason', 'offline', 'officers', 'officer', 'offered', 'offense', 'offended', 'ofdm', 'ofcom', 'odd', 'ocean', 'occupation', 'obsession', 'observed', 'obesity', 'obese', 'obasanjo', 'oakland', 'nylon', 'ny', 'nutrition', 'nuke', 'nuisance', 'nplan', 'nov', 'notorious', 'notion', 'notes', 'notebooks', 'notables', 'notable', 'noses', 'northwest', 'northsouth', 'norodom', 'nonproblem', 'nonetheless', 'nominate', 'nokiahalted', 'noble', 'nobid', 'nnn', 'nightclubs', 'nigerias', 'nidal', 'nicolas', 'nextwave', 'nextgeneration', 'nextel', 'newsstands', 'newsreaders', 'newspaper', 'newscientist', 'newratingscom', 'newfound', 'newcomers', 'newcastle', 'nevada', 'nepali', 'nemo', 'nelson', 'negotiators', 'necessary', 'neared', 'nds', 'nbspthe', 'nbsphill', 'nbs', 'naziera', 'nazi', 'naughty', 'natural', 'nationwide', 'nationssaid', 'nationals', 'nasty', 'nasdaq', 'naming', 'nairobi', 'naimi', 'n', 'mystery', 'mylanking', 'mylan', 'mutualfund', 'mutation', 'must', 'muslims', 'muscle', 'murderous', 'munich', 'multiple', 'multifators', 'multifactors', 'msn', 'msft', 'mr', 'mp3friendly', 'moving', 'moviestudios', 'movies', 'moves', 'mover', 'mouth', 'mounted', 'mountainsized', 'motor', 'motion', 'mostly', 'mosque', 'moscow', 'mortgage', 'mortar', 'mood', 'montana', 'monster', 'moneymaking', 'monarch', 'moment', 'moises', 'mogul', 'modests', 'mnf', 'mmc', 'mksl', 'mission', 'missing', 'missiles', 'misses', 'missed', 'misleading', 'mirrors', 'minutes', 'minute', 'ministers', 'ministerial', 'ming', 'mine', 'milne', 'millionpound', 'milken', 'miles', 'milan', 'mike', 'miikka', 'miguel', 'migrants', 'midsized', 'midrange', 'midfielder', 'midcentury', 'microsofts', 'microprocessors', 'microchips', 'microchip', 'mickey', 'mickelson', 'michelle', 'mich', 'miaa', 'mgm', 'meyerson', 'metrogoldwynmayer', 'meter', 'meteorological', 'metamorphosis', 'merged', 'menu', 'membership', 'meetings', 'mediumsized', 'medicines', 'medicine', 'medical', 'mediators', 'medals', 'mechanics', 'meat', 'measures', 'measure', 'meaning', 'me', 'mdash', 'mcwilliamsfranklins', 'mcnealy', 'mcmichael', 'mcfeatters', 'matthew', 'matches', 'matched', 'masterpieces', 'masterpiece', 'marveling', 'martyr', 'marshes', 'marriagethe', 'markets', 'marketplacecafe', 'marketing', 'marked', 'marine', 'margin', 'margaret', 'marble', 'marauder', 'marathon', 'marat', 'maps', 'maoists', 'maoist', 'maoism', 'manure', 'manufacturing', 'manufacturer', 'manipulated', 'mandate', 'manages', 'mammoth', 'malone', 'malicious', 'malaysias', 'malaysian', 'makeshift', 'maintain', 'mainly', 'mahmoud', 'mafia', 'madison', 'macpherson', 'machines', 'macadamia', 'mac', 'm3', 'm', 'lure', 'lucky', 'luck', 'ltstronggtcashncarrionltstronggt', 'ltpgtltpgtltpgt', 'ltbrgtltfont', 'lowest', 'lowend', 'lovely', 'love', 'lossmaking', 'losing', 'losers', 'loose', 'looming', 'loomed', 'looked', 'longsuffering', 'longstanding', 'longshot', 'longlasting', 'lonelyhearts', 'lone', 'londons', 'logon', 'lockout', 'lockheed', 'lobbyists', 'lleyton', 'lively', 'lived', 'live', 'listed', 'liquor', 'links', 'linked', 'linger', 'linda', 'limitedday', 'limitations', 'lightweights', 'lights', 'lifts', 'licenses', 'library', 'libraries', 'liberties', 'liberal', 'leveled', 'letup', 'letterman', 'letter', 'lessexpensive', 'lesbians', 'lesa', 'leonid', 'leno', 'leniency', 'legit', 'legends', 'lefthander', 'ledezma', 'lebanese', 'learning', 'learned', 'leap', 'leads', 'lbw', 'lawsuits', 'lawrence', 'laureate', 'launching', 'laughs', 'latenight', 'lateday', 'lasted', 'lastchance', 'largescale', 'largerthanexpected', 'larger', 'laptops', 'language', 'landscape', 'lands', 'lance', 'lambasts', 'laid', 'lacking', 'labs', 'laboratories', 'labelfriendly', 'la', 'kulim', 'kufuor', 'kreidler', 'kpmg', 'koreasamsung', 'kong', 'kohler', 'known', 'knowing', 'know', 'knockout', 'knicks', 'km', 'kingdom', 'kills', 'kiev', 'kidnapping', 'kidnapper', 'kidnap', 'kickbacks', 'khan', 'keys', 'kernel', 'kept', 'keppinger', 'kenya', 'ken', 'keeping', 'kde', 'kcs', 'kazakhstan', 'kathmandu', 'kashmir', 'karbala', 'karameh', 'justin', 'justice', 'junkies', 'jumps', 'jumper', 'jumped', 'july', 'joyous', 'joy', 'journalists', 'jose', 'jonesinfineon', 'jonathan', 'jolted', 'jokes', 'joins', 'joined', 'johannesburg', 'joey', 'joe', 'jittery', 'jintao', 'jihad', 'jibjab', 'jiang', 'jews', 'jerome', 'jeopardizing', 'jennifer', 'jeff', 'jeanne', 'jd', 'jazz', 'jay', 'jaw', 'java', 'jaunee', 'jaret', 'jared', 'jamal', 'jake', 'jailed', 'jail', 'jaguars', 'jags', 'jacksonville', 'jacket', 'ive', 'itsentertainment', 'itself', 'ith', 'itanium', 'issue', 'israels', 'isps', 'isnt', 'ismael', 'islamabad', 'irvinebased', 'irreparable', 'irelands', 'iras', 'ira', 'ipods', 'ipo', 'ipecom', 'ion', 'involve', 'investments', 'inventory', 'inventories', 'invented', 'invent', 'invaluable', 'introductory', 'introducing', 'introduced', 'intro', 'intervals', 'intersections', 'interrogations', 'interpreter', 'interpreted', 'internets', 'internetfree', 'internetbased', 'internally', 'interior', 'interestrate', 'interest', 'intentions', 'intent', 'intensity', 'intensify', 'intends', 'intelligence', 'institutions', 'institutional', 'institute', 'installation', 'inspire', 'inspectors', 'insists', 'insisting', 'insidious', 'inserted', 'innovation', 'innings', 'injures', 'initiative', 'initially', 'infrastructure', 'informing', 'info', 'influenza', 'inflationary', 'infects', 'infect', 'infamous', 'ineel', 'industries', 'indusafin', 'indurain', 'indonesias', 'indonesia', 'indicating', 'indicated', 'indiana', 'independent', 'indemnification', 'ind', 'incursions', 'incs', 'increasingly', 'increases', 'increased', 'incoming', 'incidents', 'inches', 'inaugural', 'improves', 'improvement', 'improperly', 'imprint', 'impressive', 'impressing', 'imported', 'import', 'implantable', 'imperfect', 'imminent', 'images', 'im', 'illegally', 'ill', 'ii', 'ifx', 'ideology', 'identities', 'identification', 'ideal', 'icy', 'icqmail', 'icons', 'icecats', 'icc', 'ibrahim', 'hype', 'husband', 'hurting', 'hurled', 'hunter', 'hungry', 'humiliating', 'hugo', 'hugh', 'hu', 'hrefhttpwwwinvestorreuterscomfullquoteaspxtickerpsfto', 'hrefhttpwwwinvestorreuterscomfullquoteaspxtickerorclo', 'hrefhttpwwwinvestorreuterscomfullquoteaspxtickeripn', 'hrefhttpwwwinvestorreuterscomfullquoteaspxtickerintco', 'hrefhttpwwwinvestorreuterscomfullquoteaspxtickerhumn', 'hrefhttpwwwinvestorreuterscomfullquoteaspxtickerfdxn', 'however', 'hovered', 'houses', 'hours', 'hotly', 'hosted', 'hostagetaking', 'host', 'hospital', 'horse', 'hoping', 'hopefulviktor', 'hoon', 'hoogovens', 'honor', 'hong', 'honest', 'honda', 'homes', 'homeland', 'holyfield', 'holy', 'hollinger', 'holidays', 'hole', 'holder', 'hobbled', 'hitter', 'hitomi', 'history', 'hired', 'hire', 'hip', 'hindumuslim', 'himalayan', 'hilarious', 'hiking', 'hike', 'highway', 'hightech', 'highskilled', 'highs', 'highpaying', 'highly', 'highlanders', 'highest', 'higherthanexpected', 'hide', 'hicham', 'hey', 'hex', 'hewitt', 'herself', 'herschelle', 'herbert', 'helps', 'helm', 'helicopter', 'heir', 'hefavors', 'heavy', 'heating', 'heathrow', 'heated', 'heat', 'hears', 'heard', 'hear', 'heand', 'headscarf', 'headlined', 'headache', 'hddvd', 'hbos', 'hayden', 'hawking', 'having', 'haveinvented', 'hasan', 'harvard', 'harmony', 'hardy', 'hardware', 'hardest', 'happy', 'happened', 'happen', 'hannahs', 'hang', 'handsprings', 'handover', 'handled', 'handing', 'handheld', 'handcuffed', 'hampering', 'hammered', 'hamilton', 'halfyear', 'hair', 'hague', 'hadn', 'hacking', 'hackarmy', 'haas', 'h5n1', 'gymnastics', 'guys', 'guwahati', 'gupta', 'gunners', 'gunbattles', 'gujarat', 'guidugli', 'guiding', 'guidelines', 'guided', 'guide', 'guessing', 'guardsmen', 'guards', 'gtifx', 'gruesome', 'grueling', 'grows', 'grower', 'grounds', 'ground', 'gross', 'groove', 'groom', 'grip', 'griffintechnology', 'griffin', 'grievances', 'grew', 'grenade', 'greenspans', 'greenhouse', 'greenback', 'greatest', 'gray', 'grass', 'graphic', 'grant', 'grandchildren', 'grand', 'graeme', 'gradeone', 'governments', 'governmentappointed', 'governing', 'gotti', 'gossipseekers', 'goodwill', 'goods', 'golfer', 'going', 'goaltender', 'goal', 'goahead', 'gnome', 'gmac', 'glowing', 'gloves', 'gloomy', 'globalwarming', 'givingup', 'girls', 'ginza', 'gino', 'ginepri', 'gibbs', 'gibbering', 'giaccone', 'ghana', 'germans', 'georgia', 'geoff', 'generate', 'genel', 'gecis', 'gdp', 'gbyte', 'gazers', 'gazas', 'gaymen', 'gay', 'gators', 'gate', 'gases', 'gas', 'gary', 'gartner', 'gardens', 'ganguly', 'gangster', 'gang', 'gamble', 'gaggle', 'futility', 'fusion', 'funding', 'fuming', 'fsn', 'frx', 'frustrate', 'frontend', 'frightening', 'fridays', 'fretted', 'frenzy', 'freewheeling', 'freeing', 'freeagent', 'fraudsters', 'frankfurt', 'frank', 'franchise', 'fragile', 'fox', 'fouryear', 'fourshot', 'founding', 'founders', 'foundation', 'forum', 'fortynine', 'fortyfour', 'fortunes', 'forthcoming', 'forms', 'formed', 'formallyended', 'forest', 'forcing', 'footage', 'fooled', 'fool', 'followiing', 'followers', 'foilvideo', 'fog', 'fm', 'flying', 'flyby', 'flurry', 'flu', 'flights', 'flexibility', 'flex', 'flew', 'fletcher', 'fleetcenter', 'flanker', 'fix', 'fiveday', 'fiscal', 'firstquarter', 'firewallvpn', 'firewalls', 'firewall', 'fires', 'finished', 'finish', 'fingers', 'finest', 'fines', 'fine', 'finding', 'find', 'financed', 'finance', 'finalises', 'filesharing', 'figure', 'fightinga', 'fifa', 'fierce', 'fiami', 'fevered', 'fergie', 'fenway', 'fending', 'fend', 'fence', 'female', 'felt', 'fees', 'feels', 'fedun', 'feds', 'federation', 'february', 'featuring', 'features', 'feature', 'feared', 'fcc', 'fbi', 'favoured', 'favour', 'favor', 'fatigue', 'father', 'fate', 'fasttrack', 'fashion', 'fascinate', 'farid', 'fan', 'famer', 'fame', 'faltering', 'falluja', 'falling', 'fake', 'faisalabad', 'fair', 'fail', 'factory', 'factories', 'factions', 'facilitate', 'faceverdanams', 'faced', 'fabian', 'eye', 'extreme', 'external', 'extension', 'expressing', 'exporters', 'explosive', 'explorer', 'exploit', 'explode', 'expert', 'experience', 'expel', 'expectations', 'expatriot', 'expatriate', 'expands', 'exotic', 'exit', 'existing', 'exist', 'exhaust', 'exec', 'excutive', 'exclusively', 'exclusive', 'exciting', 'excitement', 'excited', 'excite', 'exchange', 'excess', 'exauditors', 'example', 'examining', 'examine', 'exallies', 'exaggerations', 'everything', 'events', 'event', 'evenly', 'evening', 'eve', 'evander', 'evacuated', 'ethnic', 'et', 'estimates', 'estimate', 'establishing', 'est', 'espn2', 'escort', 'eruptions', 'erasmus', 'erase', 'equity', 'envoy', 'environments', 'entiretythe', 'entirely', 'entire', 'entice', 'enthusiasts', 'enters', 'entering', 'entered', 'enrich', 'enjoyed', 'enhancements', 'english', 'engineers', 'engine', 'engandered', 'eng', 'endure', 'endorsing', 'endorses', 'endorse', 'endless', 'encryption', 'encouraged', 'enables', 'emyr', 'emit', 'emission', 'emerged', 'em', 'elle', 'elite', 'eliot', 'eliminate', 'eleven', 'electric', 'electoral', 'elder', 'elbaradei', 'eisner', 'eightyear', 'eightunderpar', 'eightrace', 'eighth', 'effort', 'effective', 'effect', 'eelam', 'educators', 'edonkeyovernet', 'edonkey', 'edmonds', 'edition', 'edging', 'edges', 'edged', 'edgar', 'eddie', 'economists', 'eco', 'eclipsed', 'eclipse', 'ebo', 'ebcvg', 'eatery', 'eater', 'easy', 'eastern', 'east', 'easily', 'easier', 'ease', 'earthquakes', 'earthquake', 'earns', 'earned', 'earlyinvestors', 'earliest', 'eager', 'e11bn', 'dynasty', 'dvds', 'dvd', 'dustan', 'durban', 'dump', 'dumb', 'dualchannel', 'druyun', 'drug', 'drove', 'droughns', 'drop', 'drilled', 'dreyfuss', 'drew', 'dressing', 'dreary', 'dreams', 'dramatic', 'dram', 'dozens', 'downs', 'downloads', 'dow', 'doughnuts', 'doubt', 'doubled', 'dormitory', 'dorm', 'doors', 'door', 'dominick', 'dominating', 'dolphins', 'doldrums', 'doj', 'doing', 'dodging', 'doctor', 'dla', 'dj', 'divisional', 'divided', 'disunity', 'districts', 'distribute', 'distaff', 'dissension', 'displaced', 'dismisses', 'dismissal', 'dismantlement', 'dismantled', 'dismal', 'disk', 'disease', 'discussion', 'discusses', 'discriminated', 'discredit', 'discovery', 'discovered', 'discloses', 'disarmament', 'disappoint', 'disability', 'dirty', 'dirt', 'dirksen', 'directories', 'directing', 'directed', 'direct', 'dips', 'diplomatic', 'diplomat', 'dioxin', 'dinara', 'diminished', 'dilute', 'differentiate', 'dietary', 'didnt', 'didn', 'dictator', 'dhaka', 'dh', 'devastation', 'determined', 'determine', 'detained', 'desktopsand', 'designguru', 'designers', 'designer', 'designated', 'desertion', 'description', 'derail', 'depth', 'dept', 'depot', 'deploy', 'depends', 'departure', 'departed', 'depart', 'density', 'densely', 'denial', 'demonstrations', 'demonstrates', 'demonstrate', 'demanded', 'delta', 'deloitte', 'delivery', 'delivers', 'delivering', 'delivered', 'delay', 'del', 'definitiondvd', 'defiantly', 'defiant', 'defensive', 'defending', 'defended', 'defendants', 'defeat', 'deduction', 'dedicated', 'decries', 'declined', 'declared', 'decide', 'decapitated', 'decadelong', 'debuts', 'debut', 'debt', 'debit', 'dear', 'deals', 'deadly', 'deadliest', 'de', 'ddr2', 'dawson', 'davis', 'davies', 'daughter', 'dating', 'databases', 'database', 'darren', 'darleen', 'darkness', 'dangers', 'dangerous', 'danger', 'danforth', 'damaging', 'damaged', 'damage', 'dairy', 'daily', 'czar', 'cutthroat', 'cutdown', 'customer', 'curt', 'currency', 'cure', 'curb', 'cult', 'cubspitcher', 'csc', 'crystal', 'crying', 'crushes', 'crucial', 'crowned', 'crown', 'crowley', 'crowd', 'crosby', 'cromwell', 'criticizes', 'criticized', 'cristiano', 'crist', 'crisp', 'crimsons', 'crimson', 'crimeweary', 'crew', 'credit', 'credibility', 'creators', 'creation', 'cranssursierre', 'crammed', 'craig', 'craft', 'crack', 'cowboys', 'covering', 'coverage', 'courtside', 'courts', 'courtney', 'course', 'county', 'countrys', 'countrymen', 'counting', 'counterfeit', 'counter', 'cotton', 'costly', 'costcutting', 'corus', 'corruption', 'correctedcnn', 'corpses', 'corps', 'corporations', 'corner', 'cornell', 'coras', 'copyright', 'copenhagen', 'coordinator', 'coopt', 'cooperating', 'cool', 'cook', 'convoy', 'conversations', 'convene', 'controls', 'contractor', 'contraception', 'continental', 'continent', 'contests', 'contemporary', 'consultant', 'constitutional', 'considering', 'consideration', 'consecutive', 'connections', 'conform', 'conditions', 'condition', 'condemns', 'conciliatory', 'concessions', 'concerning', 'concerned', 'concern', 'concepts', 'conceal', 'comrades', 'computing', 'computerworld', 'comprehensive', 'complicity', 'complex', 'completion', 'completing', 'complaints', 'complaint', 'competitive', 'competing', 'companion', 'communities', 'communist', 'commissions', 'commissioner', 'commercial', 'comments', 'comment', 'commands', 'commanding', 'command', 'comic', 'comerica', 'combinations', 'combative', 'combat', 'columnist', 'color666666gtltbgtleslie', 'colonising', 'colonials', 'colombo', 'collision', 'collins', 'collectors', 'collection', 'collecting', 'collaborating', 'cofounder', 'coffee', 'code', 'coaching', 'cnnmoney', 'cluck', 'clouds', 'cloud', 'clothing', 'closing', 'closeddoor', 'closed', 'clogging', 'climbed', 'climbdown', 'clifton', 'cliff', 'cleveland', 'clearing', 'clear', 'clean', 'claw', 'classic', 'clashed', 'clan', 'citywide', 'cities', 'churned', 'christmas', 'choice', 'choe', 'chocoholics', 'chips', 'chipped', 'chilly', 'chilling', 'chill', 'child', 'chiefs', 'chided', 'chidambaram', 'chicken', 'chen', 'chelmsford', 'checked', 'cheaper', 'chattanooga', 'charney', 'charlotte', 'chants', 'channel', 'changed', 'chances', 'champs', 'chairs', 'chairmans', 'chairman', 'ceremonies', 'cereal', 'ceramics', 'ceos', 'ceo', 'century', 'centres', 'centreback', 'cemetery', 'cementing', 'celtics', 'cellular', 'cells', 'cellphones', 'celebrex', 'celebre', 'celebrating', 'celebrated', 'celebrate', 'ceiling', 'cbs', 'catch', 'catapults', 'catalogs', 'castslong', 'cases', 'cary', 'cartoon', 'carry', 'carries', 'carrier', 'carmakers', 'carmaker', 'carling', 'carl', 'careful', 'care', 'cardiff', 'capture', 'capsule', 'capped', 'capitalize', 'cant', 'cannot', 'candidate', 'candid', 'cambridgeshire', 'cambodians', 'cambodia', 'camberoltpgtltpgt', 'californias', 'califa', 'calgary', 'byslightly', 'buyer', 'butt', 'busy', 'bustard', 'businessmen', 'bushs', 'bus', 'burton', 'burt', 'burning', 'burned', 'bureau', 'bundles', 'bulletriddled', 'buildup', 'buildings', 'bud', 'bucs', 'bucharest', 'bruises', 'bruce', 'browserpossibly', 'brom', 'brokered', 'broke', 'broadening', 'broadcasters', 'broadcast', 'broadband', 'britains', 'brisbane', 'brings', 'bringing', 'brin', 'brilliant', 'brightened', 'bright', 'brigham', 'brief', 'breast', 'braves', 'branding', 'braiding', 'bowlers', 'bound', 'bounce', 'border', 'booze', 'boots', 'bootleg', 'boosts', 'bond', 'bonanno', 'bombing', 'bomber', 'bombarded', 'bodies', 'bobby', 'bobbing', 'bob', 'boat', 'bn', 'blurred', 'blowout', 'bloomfield', 'bloody', 'bloggers', 'blocs', 'blocks', 'blocked', 'bln', 'blasted', 'blast', 'blamed', 'blacks', 'bitter', 'biscayne', 'birds', 'birdies', 'birdflu', 'biometrics', 'billiton', 'billboards', 'bigname', 'bigleys', 'bigley', 'biggies', 'bigger', 'bids', 'beyond', 'betrusted', 'beta', 'beside', 'beset', 'bertie', 'bentley', 'bent', 'benign', 'bend', 'benches', 'benazir', 'belonged', 'belly', 'bell', 'believing', 'beleaguered', 'behind', 'beginning', 'beforethebell', 'bee', 'bed', 'becks', 'beckham', 'beating', 'beaten', 'bearcats', 'beam', 'beaches', 'bbaiji', 'baytsp', 'bays', 'bay', 'baxter', 'battles', 'batting', 'batch', 'bat', 'basis', 'baseman', 'baseballmonday', 'barters', 'bartering', 'barring', 'barrel', 'barrage', 'barnes', 'barclays', 'barbarians', 'banning', 'bankruptcynext', 'bankrupt', 'bankers', 'bangkok', 'bandwidth', 'band', 'bamboo', 'bambino', 'baltic', 'balco', 'balanced', 'balance', 'bakery', 'baker', 'bail', 'baiji', 'baggies', 'bag', 'babe', 'ayar', 'ayad', 'awaits', 'aviation', 'avian', 'automated', 'author', 'authentication', 'authenticate', 'australias', 'auditors', 'auditor', 'audio', 'attraction', 'attract', 'attorneys', 'attentioncome', 'attending', 'attendees', 'attendants', 'attempts', 'asteroid', 'assurance', 'assume', 'association', 'associates', 'assets', 'asset', 'assemblys', 'asks', 'ask', 'asharply', 'asecond', 'asaravala', 'artificially', 'artificial', 'arthritis', 'artest', 'arrival', 'arresting', 'arnesen', 'arlington', 'ariel', 'argentina', 'arerun', 'arent', 'archrivals', 'archrival', 'architecture', 'arabs', 'arabmilitiamen', 'arabiclanguage', 'arabian', 'apps', 'approves', 'approval', 'approached', 'approach', 'apprentice', 'appoints', 'appears', 'appearing', 'appeared', 'appear', 'appeal', 'anything', 'anyone', 'antonio', 'antivirus', 'antiterror', 'antisemitic', 'antipodes', 'antipiracy', 'antiphishing', 'antijewish', 'antics', 'anticompetitive', 'anthony', 'antennas', 'antczak', 'anonymity', 'announcing', 'announcement', 'annika', 'ankara', 'anincident', 'angry', 'andres', 'andre', 'andor', 'ancestors', 'analyst', 'analysis', 'anaheim', 'amsterdam', 'amps', 'ammunition', 'amit', 'americans', 'amendment', 'amazon', 'although', 'alqaeda', 'alonzo', 'almughrabi', 'allshare', 'allows', 'allinone', 'allens', 'alleges', 'allawi', 'allaround', 'alive', 'alien', 'alaqsa', 'aka', 'airlifted', 'airbag', 'aiming', 'ailing', 'ahern', 'agriculture', 'agreeing', 'aggravating', 'aggravate', 'agencies', 'age', 'agassi', 'afx', 'afterhours', 'afraid', 'afghans', 'afc', 'advocates', 'advisory', 'advised', 'advertising', 'advertisement', 'advances', 'advanced', 'adopt', 'adolescence', 'admitting', 'admitted', 'admits', 'admission', 'administrator', 'adjustments', 'address', 'additional', 'add', 'ad', 'acts', 'activity', 'actively', 'acquisitions', 'acquires', 'achieved', 'accession', 'accepted', 'acceptance', 'accept', 'abusing', 'abuja', 'abroad', 'ablaze', 'abdicated', 'abc', 'abbey', '985', '94pc', '925x', '92', '911', '900', '90', '8th', '87', '85', '819', '8000', '800', '7under', '7month', '78', '77', '76', '750', '730', '7200s', '715', '706', '70000', '70', '7', '6week', '6way', '6to4', '67', '667', '650', '64', '63', '5year', '5oct04', '59054087', '5821', '56', '536', '533mhz', '506', '502', '500', '4yearold', '4month', '48', '473billion', '4714', '46kmwide', '46', '44', '430', '42', '400', '3q', '3m', '39no', '39mr', '39m', '39kill', '39ite', '39gabba', '39devastated', '39bony', '39big', '3635', '36295', '36250', '36228billion', '362', '35th', '3500', '326th', '3250x', '313', '310', '30year', '30member', '280', '275', '25member', '254', '2500', '248', '244', '23yearold', '222202', '22', '217', '2020', '202', '2017', '2009', '2008', '2006', '20041013', '2001', '2000', '1shot', '1s', '1aa', '1a', '1998', '1949', '1918', '1914', '1905', '18yearold', '18th', '18lockheed', '186', '17day', '17', '1510', '14hour', '140000', '140', '137nation', '135mph', '129', '1266', '119', '117', '10g', '1030', '102', '0fortexas', '04', '01']\n"
          ]
        }
      ],
      "source": [
        "print(vocabs)"
      ]
    },
    {
      "cell_type": "code",
      "execution_count": 48,
      "id": "36a979f8-5055-40d4-b7fc-06539fff7ba5",
      "metadata": {
        "colab": {
          "base_uri": "https://localhost:8080/"
        },
        "id": "36a979f8-5055-40d4-b7fc-06539fff7ba5",
        "outputId": "58a18ea0-2d56-40cf-8c8c-139dcf220b21"
      },
      "outputs": [
        {
          "output_type": "execute_result",
          "data": {
            "text/plain": [
              "array([4171,  493,    1,   17,    1,    1,   96,    0,    0,    0,    0,\n",
              "          0,    0,    0,    0,    0,    0,    0,    0,    0,    0,    0,\n",
              "          0,    0,    0,    0,    0,    0,    0,    0,    0,    0,    0,\n",
              "          0,    0,    0,    0,    0,    0,    0,    0,    0,    0,    0,\n",
              "          0,    0,    0,    0,    0,    0,    0,    0,    0,    0,    0,\n",
              "          0,    0,    0,    0,    0,    0,    0,    0,    0,    0,    0,\n",
              "          0,    0,    0,    0,    0,    0,    0,    0,    0,    0,    0,\n",
              "          0,    0,    0,    0,    0,    0,    0,    0,    0,    0,    0,\n",
              "          0,    0,    0,    0,    0,    0,    0,    0,    0,    0,    0,\n",
              "          0,    0,    0,    0,    0,    0,    0,    0,    0,    0,    0,\n",
              "          0,    0,    0,    0,    0,    0,    0,    0,    0,    0,    0,\n",
              "          0,    0,    0,    0,    0,    0,    0,    0,    0,    0,    0,\n",
              "          0,    0,    0,    0,    0,    0,    0,    0,    0,    0,    0,\n",
              "          0,    0,    0,    0,    0,    0,    0,    0,    0,    0,    0,\n",
              "          0,    0,    0,    0,    0,    0,    0,    0,    0,    0,    0,\n",
              "          0,    0,    0,    0,    0,    0,    0,    0,    0,    0,    0,\n",
              "          0,    0,    0,    0,    0,    0,    0,    0,    0,    0,    0,\n",
              "          0,    0,    0,    0,    0,    0,    0,    0,    0,    0,    0,\n",
              "          0,    0,    0,    0,    0,    0,    0,    0,    0,    0,    0,\n",
              "          0,    0,    0,    0,    0,    0,    0,    0,    0,    0,    0,\n",
              "          0,    0,    0,    0,    0,    0,    0,    0,    0,    0,    0,\n",
              "          0,    0,    0,    0,    0,    0,    0,    0,    0,    0,    0,\n",
              "          0,    0,    0,    0,    0,    0,    0,    0,    0,    0,    0,\n",
              "          0,    0,    0,    0,    0,    0,    0,    0,    0,    0,    0,\n",
              "          0,    0,    0,    0,    0,    0,    0,    0,    0,    0,    0,\n",
              "          0,    0,    0,    0,    0,    0,    0,    0,    0,    0,    0,\n",
              "          0,    0,    0,    0,    0,    0,    0,    0,    0,    0,    0,\n",
              "          0,    0,    0])"
            ]
          },
          "metadata": {},
          "execution_count": 48
        }
      ],
      "source": [
        "vectorizer('Ghana Black Stars is playing Comoros today').numpy()"
      ]
    },
    {
      "cell_type": "code",
      "execution_count": 50,
      "id": "2f37190a-4a92-4b2b-a7c5-50be771c1975",
      "metadata": {
        "id": "2f37190a-4a92-4b2b-a7c5-50be771c1975"
      },
      "outputs": [],
      "source": [
        "train_data_tk = train_data.map(lambda x:(vectorizer(x['title']+ \" \" + x['description']), x['label'])).batch(128)\n",
        "#train_data_ps = train_data_tk.map(lambda x: pad_input(x))\n",
        "#train_data_tk = train_data.map(lambda x: ps(vectorizer(x['title'] + x['description']).numpy(), maxlen = 300, padding = 'post',truncating = 'post')).batch(128)"
      ]
    },
    {
      "cell_type": "code",
      "execution_count": 51,
      "id": "62f8178a",
      "metadata": {
        "colab": {
          "base_uri": "https://localhost:8080/"
        },
        "id": "62f8178a",
        "outputId": "529ce5f0-1cd1-4d3b-d917-ca04ff37113f"
      },
      "outputs": [
        {
          "output_type": "execute_result",
          "data": {
            "text/plain": [
              "<_BatchDataset element_spec=(TensorSpec(shape=(None, None), dtype=tf.int64, name=None), TensorSpec(shape=(None,), dtype=tf.int64, name=None))>"
            ]
          },
          "metadata": {},
          "execution_count": 51
        }
      ],
      "source": [
        "train_data_tk"
      ]
    },
    {
      "cell_type": "code",
      "execution_count": 52,
      "id": "b9201e09",
      "metadata": {
        "id": "b9201e09"
      },
      "outputs": [],
      "source": [
        "test_data_tk = test_data.map(lambda x:(vectorizer(x['title'] + \" \" + x['description']), x['label'])).batch(128)"
      ]
    },
    {
      "cell_type": "code",
      "execution_count": 54,
      "id": "bbbd4e88-cc39-48a2-8f7a-d33d37bcb6b3",
      "metadata": {
        "id": "bbbd4e88-cc39-48a2-8f7a-d33d37bcb6b3"
      },
      "outputs": [],
      "source": [
        "# Build model"
      ]
    },
    {
      "cell_type": "code",
      "execution_count": 55,
      "id": "3f5dc32f-5a91-414e-aef0-4ad279124a6c",
      "metadata": {
        "id": "3f5dc32f-5a91-414e-aef0-4ad279124a6c"
      },
      "outputs": [],
      "source": [
        "from keras.models import Sequential\n",
        "from keras.layers import Dense, Embedding, Flatten, Bidirectional, LSTM"
      ]
    },
    {
      "cell_type": "code",
      "execution_count": 56,
      "id": "daef168b",
      "metadata": {
        "id": "daef168b"
      },
      "outputs": [],
      "source": [
        "from keras.layers import Dropout"
      ]
    },
    {
      "cell_type": "code",
      "execution_count": 66,
      "id": "1a0cf406-3c88-43e1-8b9d-cfd3c6ed053f",
      "metadata": {
        "id": "1a0cf406-3c88-43e1-8b9d-cfd3c6ed053f"
      },
      "outputs": [],
      "source": [
        "model = Sequential()\n",
        "model.add(Embedding(vocab_size, 512))\n",
        "model.add(Dropout(0.1))\n",
        "model.add(Bidirectional(LSTM(32)))\n",
        "model.add(Flatten())\n",
        "model.add(Dropout(0.3))\n",
        "model.add(Dense(32, activation = 'relu'))\n",
        "model.add(Dense(4, activation='softmax'))"
      ]
    },
    {
      "cell_type": "code",
      "execution_count": 67,
      "id": "39893e9e-6880-4dc0-a0d0-f4e19f8674fe",
      "metadata": {
        "id": "39893e9e-6880-4dc0-a0d0-f4e19f8674fe"
      },
      "outputs": [],
      "source": [
        "# Compile Model\n",
        "model.compile(loss='sparse_categorical_crossentropy', optimizer='adam', metrics=['accuracy'])"
      ]
    },
    {
      "cell_type": "code",
      "execution_count": 71,
      "id": "ff61bc0b-01ec-4379-b172-5b4763bece8f",
      "metadata": {
        "colab": {
          "base_uri": "https://localhost:8080/"
        },
        "id": "ff61bc0b-01ec-4379-b172-5b4763bece8f",
        "outputId": "f802c029-5971-4b62-e4cc-6faba1c993bf"
      },
      "outputs": [
        {
          "output_type": "stream",
          "name": "stdout",
          "text": [
            "Epoch 1/10\n",
            "938/938 [==============================] - 114s 122ms/step - loss: 0.2911 - accuracy: 0.9014 - val_loss: 0.3074 - val_accuracy: 0.8964\n",
            "Epoch 2/10\n",
            "938/938 [==============================] - 40s 43ms/step - loss: 0.2538 - accuracy: 0.9131 - val_loss: 0.3196 - val_accuracy: 0.8930\n",
            "Epoch 3/10\n",
            "938/938 [==============================] - 42s 45ms/step - loss: 0.2241 - accuracy: 0.9221 - val_loss: 0.3202 - val_accuracy: 0.8947\n",
            "Epoch 4/10\n",
            "938/938 [==============================] - 40s 43ms/step - loss: 0.2004 - accuracy: 0.9297 - val_loss: 0.3509 - val_accuracy: 0.8895\n",
            "Epoch 5/10\n",
            "938/938 [==============================] - 40s 43ms/step - loss: 0.1783 - accuracy: 0.9376 - val_loss: 0.3830 - val_accuracy: 0.8870\n",
            "Epoch 6/10\n",
            "938/938 [==============================] - 40s 43ms/step - loss: 0.1603 - accuracy: 0.9430 - val_loss: 0.3980 - val_accuracy: 0.8904\n",
            "Epoch 7/10\n",
            "938/938 [==============================] - 42s 44ms/step - loss: 0.1436 - accuracy: 0.9487 - val_loss: 0.4065 - val_accuracy: 0.8920\n",
            "Epoch 8/10\n",
            "938/938 [==============================] - 41s 43ms/step - loss: 0.1300 - accuracy: 0.9536 - val_loss: 0.4382 - val_accuracy: 0.8904\n",
            "Epoch 9/10\n",
            "938/938 [==============================] - 41s 43ms/step - loss: 0.1170 - accuracy: 0.9581 - val_loss: 0.4706 - val_accuracy: 0.8880\n",
            "Epoch 10/10\n",
            "938/938 [==============================] - 40s 43ms/step - loss: 0.1048 - accuracy: 0.9625 - val_loss: 0.4984 - val_accuracy: 0.8883\n"
          ]
        },
        {
          "output_type": "execute_result",
          "data": {
            "text/plain": [
              "<keras.src.callbacks.History at 0x780c3075b820>"
            ]
          },
          "metadata": {},
          "execution_count": 71
        }
      ],
      "source": [
        "# Fit Model\n",
        "model.fit(train_data_tk, validation_data=test_data_tk, epochs=10)"
      ]
    },
    {
      "cell_type": "code",
      "execution_count": 62,
      "id": "e43e4f5d-2e93-49cf-aac4-433bc42ecccc",
      "metadata": {
        "id": "e43e4f5d-2e93-49cf-aac4-433bc42ecccc"
      },
      "outputs": [],
      "source": [
        "# Make Predictions"
      ]
    },
    {
      "cell_type": "code",
      "execution_count": 72,
      "id": "67be90df",
      "metadata": {
        "id": "67be90df"
      },
      "outputs": [],
      "source": [
        "def prediction_report(news):\n",
        "    classNames = ['World', 'Sport', 'Business', 'Sci/Tech']\n",
        "    x = vectorizer(news)\n",
        "    x_ = model.predict(x)\n",
        "    print(x_)\n",
        "    y2 = np.argmax(x_)\n",
        "    return classNames[y2]"
      ]
    },
    {
      "cell_type": "code",
      "execution_count": 74,
      "id": "e8659771-3bd6-425e-95ad-85b8dd61aff7",
      "metadata": {
        "colab": {
          "base_uri": "https://localhost:8080/",
          "height": 70
        },
        "id": "e8659771-3bd6-425e-95ad-85b8dd61aff7",
        "outputId": "8bda89e6-f4ad-4bd6-d771-fd54f133f4de"
      },
      "outputs": [
        {
          "output_type": "stream",
          "name": "stdout",
          "text": [
            "1/1 [==============================] - 1s 754ms/step\n",
            "[[0.39584708 0.0133239  0.29989192 0.29093713]]\n"
          ]
        },
        {
          "output_type": "execute_result",
          "data": {
            "text/plain": [
              "'World'"
            ],
            "application/vnd.google.colaboratory.intrinsic+json": {
              "type": "string"
            }
          },
          "metadata": {},
          "execution_count": 74
        }
      ],
      "source": [
        "news = ['Impending alien invasion! Is this the end of humanity?']\n",
        "prediction_report(news)"
      ]
    },
    {
      "cell_type": "code",
      "execution_count": 75,
      "id": "b673c256",
      "metadata": {
        "colab": {
          "base_uri": "https://localhost:8080/",
          "height": 70
        },
        "id": "b673c256",
        "outputId": "63bd8af9-38e8-4f5e-9bfc-697dbbfab5a7"
      },
      "outputs": [
        {
          "output_type": "stream",
          "name": "stdout",
          "text": [
            "1/1 [==============================] - 0s 24ms/step\n",
            "[[8.4448420e-02 3.7903083e-05 8.5497975e-02 8.3001566e-01]]\n"
          ]
        },
        {
          "output_type": "execute_result",
          "data": {
            "text/plain": [
              "'Sci/Tech'"
            ],
            "application/vnd.google.colaboratory.intrinsic+json": {
              "type": "string"
            }
          },
          "metadata": {},
          "execution_count": 75
        }
      ],
      "source": [
        "news = [\"Humans discover alien life on an exoplanet\"]\n",
        "prediction_report(news)"
      ]
    },
    {
      "cell_type": "code",
      "execution_count": 76,
      "id": "7dddd0f1",
      "metadata": {
        "colab": {
          "base_uri": "https://localhost:8080/",
          "height": 70
        },
        "id": "7dddd0f1",
        "outputId": "26a522ca-d772-42f2-f166-93e8ea7d7c04"
      },
      "outputs": [
        {
          "output_type": "stream",
          "name": "stdout",
          "text": [
            "1/1 [==============================] - 0s 24ms/step\n",
            "[[0.8530336  0.05248579 0.05824916 0.03623144]]\n"
          ]
        },
        {
          "output_type": "execute_result",
          "data": {
            "text/plain": [
              "'World'"
            ],
            "application/vnd.google.colaboratory.intrinsic+json": {
              "type": "string"
            }
          },
          "metadata": {},
          "execution_count": 76
        }
      ],
      "source": [
        "n1 = [\"Australia loses war with the emus... Again\"]\n",
        "prediction_report(n1)"
      ]
    },
    {
      "cell_type": "code",
      "execution_count": 77,
      "id": "f2e76ef4",
      "metadata": {
        "colab": {
          "base_uri": "https://localhost:8080/",
          "height": 70
        },
        "id": "f2e76ef4",
        "outputId": "f486b2f3-4e49-4dc2-9b04-3eae44617993"
      },
      "outputs": [
        {
          "output_type": "stream",
          "name": "stdout",
          "text": [
            "1/1 [==============================] - 0s 24ms/step\n",
            "[[9.4550538e-01 5.2333862e-04 6.2824958e-03 4.7688752e-02]]\n"
          ]
        },
        {
          "output_type": "execute_result",
          "data": {
            "text/plain": [
              "'World'"
            ],
            "application/vnd.google.colaboratory.intrinsic+json": {
              "type": "string"
            }
          },
          "metadata": {},
          "execution_count": 77
        }
      ],
      "source": [
        "n2 = [\"Australian mosquitos may feed frog nostrils for blood\"]\n",
        "prediction_report(n2)"
      ]
    },
    {
      "cell_type": "code",
      "source": [
        "model.evaluate(test_data_tk)"
      ],
      "metadata": {
        "colab": {
          "base_uri": "https://localhost:8080/"
        },
        "id": "QlpGqfMgkwAo",
        "outputId": "9b3b93d7-cb2c-4002-add3-6afb1d5b1b34"
      },
      "id": "QlpGqfMgkwAo",
      "execution_count": 78,
      "outputs": [
        {
          "output_type": "stream",
          "name": "stdout",
          "text": [
            "60/60 [==============================] - 2s 35ms/step - loss: 0.4984 - accuracy: 0.8883\n"
          ]
        },
        {
          "output_type": "execute_result",
          "data": {
            "text/plain": [
              "[0.49840715527534485, 0.8882894515991211]"
            ]
          },
          "metadata": {},
          "execution_count": 78
        }
      ]
    },
    {
      "cell_type": "code",
      "source": [
        "model.save('ag_news_model.keras')"
      ],
      "metadata": {
        "id": "nlOWlhXmk2KR"
      },
      "id": "nlOWlhXmk2KR",
      "execution_count": 79,
      "outputs": []
    }
  ],
  "metadata": {
    "kernelspec": {
      "display_name": "Python 3",
      "name": "python3"
    },
    "language_info": {
      "codemirror_mode": {
        "name": "ipython",
        "version": 3
      },
      "file_extension": ".py",
      "mimetype": "text/x-python",
      "name": "python",
      "nbconvert_exporter": "python",
      "pygments_lexer": "ipython3",
      "version": "3.11.1"
    },
    "colab": {
      "provenance": [],
      "gpuType": "T4",
      "include_colab_link": true
    },
    "accelerator": "GPU"
  },
  "nbformat": 4,
  "nbformat_minor": 5
}